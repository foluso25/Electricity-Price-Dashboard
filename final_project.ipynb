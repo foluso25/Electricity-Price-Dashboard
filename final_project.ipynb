{
 "cells": [
  {
   "cell_type": "code",
   "execution_count": 130,
   "metadata": {
    "collapsed": true,
    "pycharm": {
     "name": "#%%\n"
    }
   },
   "outputs": [],
   "source": [
    "import pandas as pd\n",
    "import numpy as np\n",
    "import scipy.stats as stats\n",
    "import matplotlib.pyplot as plt\n",
    "import geopandas\n",
    "import seaborn as sns\n",
    "from mpl_toolkits.axes_grid1.inset_locator import inset_axes\n",
    "from sklearn.linear_model import LinearRegression"
   ]
  },
  {
   "cell_type": "code",
   "execution_count": 131,
   "outputs": [],
   "source": [
    "df = pd.read_excel('sales_annual_a.xlsx', sheet_name='Total Electric Industry',header=None)\n"
   ],
   "metadata": {
    "collapsed": false,
    "pycharm": {
     "name": "#%%\n"
    }
   }
  },
  {
   "cell_type": "code",
   "execution_count": 132,
   "outputs": [
    {
     "data": {
      "text/plain": "     0      1                 2              3          4          5   \\\n0   NaN    NaN       RESIDENTIAL            NaN        NaN        NaN   \n1   NaN    NaN          Revenues          Sales  Customers      Price   \n2  Year  STATE  Thousand Dollars  Megawatthours      Count  Cents/kWh   \n3  2021     AK            469886        2083911     292451      22.55   \n4  2021     AL           4092368       31585153    2308226      12.96   \n5  2021     AR           2131723       18918015    1436246      11.27   \n6  2021     AZ           4655903       37130339    2953823      12.54   \n7  2021     CA          20604392       90284143   13883994      22.82   \n8  2021     CO           2696118       20625005    2443109      13.07   \n\n                 6              7          8          9   ...         12  \\\n0        COMMERCIAL            NaN        NaN        NaN  ...        NaN   \n1          Revenues          Sales  Customers      Price  ...  Customers   \n2  Thousand Dollars  Megawatthours      Count  Cents/kWh  ...      Count   \n3            501658        2558649      56005      19.61  ...       1135   \n4           2586968       21844283     376180      11.84  ...       7233   \n5           1101412       11516908     201408       9.56  ...      36628   \n6           3098754       29990064     335377      10.33  ...       7548   \n7          20861069      108761594    1750923      19.18  ...     149389   \n8           2232288       20584470     388601      10.84  ...      15287   \n\n          13                14             15         16         17  \\\n0        NaN    TRANSPORTATION            NaN        NaN        NaN   \n1      Price          Revenues          Sales  Customers      Price   \n2  Cents/kWh  Thousand Dollars  Megawatthours      Count  Cents/kWh   \n3      16.85                 0              0          0          0   \n4       6.33                 0              0          0          0   \n5       6.57                28            205          2      13.56   \n6       6.79               981          10515          2       9.33   \n7      14.82             73215         620799         12      11.79   \n8       8.01              8362          88576          1       9.44   \n\n                 18             19         20         21  \n0             TOTAL            NaN        NaN        NaN  \n1          Revenues          Sales  Customers      Price  \n2  Thousand Dollars  Megawatthours      Count  Cents/kWh  \n3           1195132        5969339     349591      20.02  \n4           8713442       85585166    2691639      10.18  \n5           4429965       48663142    1674284        9.1  \n6           8711850       81219990    3296750      10.73  \n7          48589099      247249865   15784318      19.65  \n8           6141929       56351209    2846998       10.9  \n\n[9 rows x 22 columns]",
      "text/html": "<div>\n<style scoped>\n    .dataframe tbody tr th:only-of-type {\n        vertical-align: middle;\n    }\n\n    .dataframe tbody tr th {\n        vertical-align: top;\n    }\n\n    .dataframe thead th {\n        text-align: right;\n    }\n</style>\n<table border=\"1\" class=\"dataframe\">\n  <thead>\n    <tr style=\"text-align: right;\">\n      <th></th>\n      <th>0</th>\n      <th>1</th>\n      <th>2</th>\n      <th>3</th>\n      <th>4</th>\n      <th>5</th>\n      <th>6</th>\n      <th>7</th>\n      <th>8</th>\n      <th>9</th>\n      <th>...</th>\n      <th>12</th>\n      <th>13</th>\n      <th>14</th>\n      <th>15</th>\n      <th>16</th>\n      <th>17</th>\n      <th>18</th>\n      <th>19</th>\n      <th>20</th>\n      <th>21</th>\n    </tr>\n  </thead>\n  <tbody>\n    <tr>\n      <th>0</th>\n      <td>NaN</td>\n      <td>NaN</td>\n      <td>RESIDENTIAL</td>\n      <td>NaN</td>\n      <td>NaN</td>\n      <td>NaN</td>\n      <td>COMMERCIAL</td>\n      <td>NaN</td>\n      <td>NaN</td>\n      <td>NaN</td>\n      <td>...</td>\n      <td>NaN</td>\n      <td>NaN</td>\n      <td>TRANSPORTATION</td>\n      <td>NaN</td>\n      <td>NaN</td>\n      <td>NaN</td>\n      <td>TOTAL</td>\n      <td>NaN</td>\n      <td>NaN</td>\n      <td>NaN</td>\n    </tr>\n    <tr>\n      <th>1</th>\n      <td>NaN</td>\n      <td>NaN</td>\n      <td>Revenues</td>\n      <td>Sales</td>\n      <td>Customers</td>\n      <td>Price</td>\n      <td>Revenues</td>\n      <td>Sales</td>\n      <td>Customers</td>\n      <td>Price</td>\n      <td>...</td>\n      <td>Customers</td>\n      <td>Price</td>\n      <td>Revenues</td>\n      <td>Sales</td>\n      <td>Customers</td>\n      <td>Price</td>\n      <td>Revenues</td>\n      <td>Sales</td>\n      <td>Customers</td>\n      <td>Price</td>\n    </tr>\n    <tr>\n      <th>2</th>\n      <td>Year</td>\n      <td>STATE</td>\n      <td>Thousand Dollars</td>\n      <td>Megawatthours</td>\n      <td>Count</td>\n      <td>Cents/kWh</td>\n      <td>Thousand Dollars</td>\n      <td>Megawatthours</td>\n      <td>Count</td>\n      <td>Cents/kWh</td>\n      <td>...</td>\n      <td>Count</td>\n      <td>Cents/kWh</td>\n      <td>Thousand Dollars</td>\n      <td>Megawatthours</td>\n      <td>Count</td>\n      <td>Cents/kWh</td>\n      <td>Thousand Dollars</td>\n      <td>Megawatthours</td>\n      <td>Count</td>\n      <td>Cents/kWh</td>\n    </tr>\n    <tr>\n      <th>3</th>\n      <td>2021</td>\n      <td>AK</td>\n      <td>469886</td>\n      <td>2083911</td>\n      <td>292451</td>\n      <td>22.55</td>\n      <td>501658</td>\n      <td>2558649</td>\n      <td>56005</td>\n      <td>19.61</td>\n      <td>...</td>\n      <td>1135</td>\n      <td>16.85</td>\n      <td>0</td>\n      <td>0</td>\n      <td>0</td>\n      <td>0</td>\n      <td>1195132</td>\n      <td>5969339</td>\n      <td>349591</td>\n      <td>20.02</td>\n    </tr>\n    <tr>\n      <th>4</th>\n      <td>2021</td>\n      <td>AL</td>\n      <td>4092368</td>\n      <td>31585153</td>\n      <td>2308226</td>\n      <td>12.96</td>\n      <td>2586968</td>\n      <td>21844283</td>\n      <td>376180</td>\n      <td>11.84</td>\n      <td>...</td>\n      <td>7233</td>\n      <td>6.33</td>\n      <td>0</td>\n      <td>0</td>\n      <td>0</td>\n      <td>0</td>\n      <td>8713442</td>\n      <td>85585166</td>\n      <td>2691639</td>\n      <td>10.18</td>\n    </tr>\n    <tr>\n      <th>5</th>\n      <td>2021</td>\n      <td>AR</td>\n      <td>2131723</td>\n      <td>18918015</td>\n      <td>1436246</td>\n      <td>11.27</td>\n      <td>1101412</td>\n      <td>11516908</td>\n      <td>201408</td>\n      <td>9.56</td>\n      <td>...</td>\n      <td>36628</td>\n      <td>6.57</td>\n      <td>28</td>\n      <td>205</td>\n      <td>2</td>\n      <td>13.56</td>\n      <td>4429965</td>\n      <td>48663142</td>\n      <td>1674284</td>\n      <td>9.1</td>\n    </tr>\n    <tr>\n      <th>6</th>\n      <td>2021</td>\n      <td>AZ</td>\n      <td>4655903</td>\n      <td>37130339</td>\n      <td>2953823</td>\n      <td>12.54</td>\n      <td>3098754</td>\n      <td>29990064</td>\n      <td>335377</td>\n      <td>10.33</td>\n      <td>...</td>\n      <td>7548</td>\n      <td>6.79</td>\n      <td>981</td>\n      <td>10515</td>\n      <td>2</td>\n      <td>9.33</td>\n      <td>8711850</td>\n      <td>81219990</td>\n      <td>3296750</td>\n      <td>10.73</td>\n    </tr>\n    <tr>\n      <th>7</th>\n      <td>2021</td>\n      <td>CA</td>\n      <td>20604392</td>\n      <td>90284143</td>\n      <td>13883994</td>\n      <td>22.82</td>\n      <td>20861069</td>\n      <td>108761594</td>\n      <td>1750923</td>\n      <td>19.18</td>\n      <td>...</td>\n      <td>149389</td>\n      <td>14.82</td>\n      <td>73215</td>\n      <td>620799</td>\n      <td>12</td>\n      <td>11.79</td>\n      <td>48589099</td>\n      <td>247249865</td>\n      <td>15784318</td>\n      <td>19.65</td>\n    </tr>\n    <tr>\n      <th>8</th>\n      <td>2021</td>\n      <td>CO</td>\n      <td>2696118</td>\n      <td>20625005</td>\n      <td>2443109</td>\n      <td>13.07</td>\n      <td>2232288</td>\n      <td>20584470</td>\n      <td>388601</td>\n      <td>10.84</td>\n      <td>...</td>\n      <td>15287</td>\n      <td>8.01</td>\n      <td>8362</td>\n      <td>88576</td>\n      <td>1</td>\n      <td>9.44</td>\n      <td>6141929</td>\n      <td>56351209</td>\n      <td>2846998</td>\n      <td>10.9</td>\n    </tr>\n  </tbody>\n</table>\n<p>9 rows × 22 columns</p>\n</div>"
     },
     "execution_count": 132,
     "metadata": {},
     "output_type": "execute_result"
    }
   ],
   "source": [
    "df.head(9)"
   ],
   "metadata": {
    "collapsed": false,
    "pycharm": {
     "name": "#%%\n"
    }
   }
  },
  {
   "cell_type": "code",
   "execution_count": 133,
   "outputs": [],
   "source": [
    "df_residential = df.iloc[3:,0:6]"
   ],
   "metadata": {
    "collapsed": false,
    "pycharm": {
     "name": "#%%\n"
    }
   }
  },
  {
   "cell_type": "code",
   "execution_count": 134,
   "outputs": [],
   "source": [
    "columns = ['Year','State','Revenue','Sales','Number of Customers','Price']\n",
    "df_residential.columns = columns"
   ],
   "metadata": {
    "collapsed": false,
    "pycharm": {
     "name": "#%%\n"
    }
   }
  },
  {
   "cell_type": "code",
   "execution_count": 135,
   "outputs": [
    {
     "data": {
      "text/plain": "     Year State    Revenue       Sales Number of Customers  Price       Sector\n3    2021    AK     469886     2083911              292451  22.55  Residential\n4    2021    AL    4092368    31585153             2308226  12.96  Residential\n5    2021    AR    2131723    18918015             1436246  11.27  Residential\n6    2021    AZ    4655903    37130339             2953823  12.54  Residential\n7    2021    CA   20604392    90284143            13883994  22.82  Residential\n..    ...   ...        ...         ...                 ...    ...          ...\n622  2010    WA    2805591    34906926             2825281   8.04  Residential\n623  2010    WI    2820621    22299493             2594698  12.65  Residential\n624  2010    WV    1094174    12442583              867948   8.79  Residential\n625  2010    WY     239198     2727201              257447   8.77  Residential\n626  2010    US  166778041  1445708403           125717935  11.54  Residential\n\n[624 rows x 7 columns]",
      "text/html": "<div>\n<style scoped>\n    .dataframe tbody tr th:only-of-type {\n        vertical-align: middle;\n    }\n\n    .dataframe tbody tr th {\n        vertical-align: top;\n    }\n\n    .dataframe thead th {\n        text-align: right;\n    }\n</style>\n<table border=\"1\" class=\"dataframe\">\n  <thead>\n    <tr style=\"text-align: right;\">\n      <th></th>\n      <th>Year</th>\n      <th>State</th>\n      <th>Revenue</th>\n      <th>Sales</th>\n      <th>Number of Customers</th>\n      <th>Price</th>\n      <th>Sector</th>\n    </tr>\n  </thead>\n  <tbody>\n    <tr>\n      <th>3</th>\n      <td>2021</td>\n      <td>AK</td>\n      <td>469886</td>\n      <td>2083911</td>\n      <td>292451</td>\n      <td>22.55</td>\n      <td>Residential</td>\n    </tr>\n    <tr>\n      <th>4</th>\n      <td>2021</td>\n      <td>AL</td>\n      <td>4092368</td>\n      <td>31585153</td>\n      <td>2308226</td>\n      <td>12.96</td>\n      <td>Residential</td>\n    </tr>\n    <tr>\n      <th>5</th>\n      <td>2021</td>\n      <td>AR</td>\n      <td>2131723</td>\n      <td>18918015</td>\n      <td>1436246</td>\n      <td>11.27</td>\n      <td>Residential</td>\n    </tr>\n    <tr>\n      <th>6</th>\n      <td>2021</td>\n      <td>AZ</td>\n      <td>4655903</td>\n      <td>37130339</td>\n      <td>2953823</td>\n      <td>12.54</td>\n      <td>Residential</td>\n    </tr>\n    <tr>\n      <th>7</th>\n      <td>2021</td>\n      <td>CA</td>\n      <td>20604392</td>\n      <td>90284143</td>\n      <td>13883994</td>\n      <td>22.82</td>\n      <td>Residential</td>\n    </tr>\n    <tr>\n      <th>...</th>\n      <td>...</td>\n      <td>...</td>\n      <td>...</td>\n      <td>...</td>\n      <td>...</td>\n      <td>...</td>\n      <td>...</td>\n    </tr>\n    <tr>\n      <th>622</th>\n      <td>2010</td>\n      <td>WA</td>\n      <td>2805591</td>\n      <td>34906926</td>\n      <td>2825281</td>\n      <td>8.04</td>\n      <td>Residential</td>\n    </tr>\n    <tr>\n      <th>623</th>\n      <td>2010</td>\n      <td>WI</td>\n      <td>2820621</td>\n      <td>22299493</td>\n      <td>2594698</td>\n      <td>12.65</td>\n      <td>Residential</td>\n    </tr>\n    <tr>\n      <th>624</th>\n      <td>2010</td>\n      <td>WV</td>\n      <td>1094174</td>\n      <td>12442583</td>\n      <td>867948</td>\n      <td>8.79</td>\n      <td>Residential</td>\n    </tr>\n    <tr>\n      <th>625</th>\n      <td>2010</td>\n      <td>WY</td>\n      <td>239198</td>\n      <td>2727201</td>\n      <td>257447</td>\n      <td>8.77</td>\n      <td>Residential</td>\n    </tr>\n    <tr>\n      <th>626</th>\n      <td>2010</td>\n      <td>US</td>\n      <td>166778041</td>\n      <td>1445708403</td>\n      <td>125717935</td>\n      <td>11.54</td>\n      <td>Residential</td>\n    </tr>\n  </tbody>\n</table>\n<p>624 rows × 7 columns</p>\n</div>"
     },
     "execution_count": 135,
     "metadata": {},
     "output_type": "execute_result"
    }
   ],
   "source": [
    "df_residential['Sector'] = 'Residential'\n",
    "df_residential"
   ],
   "metadata": {
    "collapsed": false,
    "pycharm": {
     "name": "#%%\n"
    }
   }
  },
  {
   "cell_type": "code",
   "execution_count": 136,
   "outputs": [],
   "source": [
    "df.drop([2,3,4,5], axis = 1,inplace=True)"
   ],
   "metadata": {
    "collapsed": false,
    "pycharm": {
     "name": "#%%\n"
    }
   }
  },
  {
   "cell_type": "code",
   "execution_count": 137,
   "outputs": [
    {
     "data": {
      "text/plain": "       0      1                 6              7          8          9   \\\n0     NaN    NaN        COMMERCIAL            NaN        NaN        NaN   \n1     NaN    NaN          Revenues          Sales  Customers      Price   \n2    Year  STATE  Thousand Dollars  Megawatthours      Count  Cents/kWh   \n3    2021     AK            501658        2558649      56005      19.61   \n4    2021     AL           2586968       21844283     376180      11.84   \n..    ...    ...               ...            ...        ...        ...   \n622  2010     WA           2125160       28833281     353330       7.37   \n623  2010     WI           2296381       23001117     338406       9.98   \n624  2010     WV            610027        7961906     137209       7.66   \n625  2010     WY            320135        4317140      59642       7.42   \n626  2010     US         135553746     1330199364   17674338      10.19   \n\n                   10             11         12         13                14  \\\n0          INDUSTRIAL            NaN        NaN        NaN    TRANSPORTATION   \n1            Revenues          Sales  Customers      Price          Revenues   \n2    Thousand Dollars  Megawatthours      Count  Cents/kWh  Thousand Dollars   \n3              223588        1326779       1135      16.85                 0   \n4             2034105       32155730       7233       6.33                 0   \n..                ...            ...        ...        ...               ...   \n622           1085311       26632814      27970       4.08               516   \n623           1606232       23451807       4496       6.85                 0   \n624            681014       11622934      12348       5.86               365   \n625            501285       10069117       8933       4.98                 0   \n626          65772007      971221189     747747       6.77            814346   \n\n                15         16         17                18             19  \\\n0              NaN        NaN        NaN             TOTAL            NaN   \n1            Sales  Customers      Price          Revenues          Sales   \n2    Megawatthours      Count  Cents/kWh  Thousand Dollars  Megawatthours   \n3                0          0          0           1195132        5969339   \n4                0          0          0           8713442       85585166   \n..             ...        ...        ...               ...            ...   \n622           6949          6       7.42           6016578       90379970   \n623              0          0          0           6723234       68752417   \n624           4380          1       8.33           2385580       32031803   \n625              0          0          0           1060618       17113458   \n626        7712412        239      10.56         368918140     3754841368   \n\n            20         21  \n0          NaN        NaN  \n1    Customers      Price  \n2        Count  Cents/kWh  \n3       349591      20.02  \n4      2691639      10.18  \n..         ...        ...  \n622    3206587       6.66  \n623    2937600       9.78  \n624    1017506       7.45  \n625     326022        6.2  \n626  144140259       9.83  \n\n[627 rows x 18 columns]",
      "text/html": "<div>\n<style scoped>\n    .dataframe tbody tr th:only-of-type {\n        vertical-align: middle;\n    }\n\n    .dataframe tbody tr th {\n        vertical-align: top;\n    }\n\n    .dataframe thead th {\n        text-align: right;\n    }\n</style>\n<table border=\"1\" class=\"dataframe\">\n  <thead>\n    <tr style=\"text-align: right;\">\n      <th></th>\n      <th>0</th>\n      <th>1</th>\n      <th>6</th>\n      <th>7</th>\n      <th>8</th>\n      <th>9</th>\n      <th>10</th>\n      <th>11</th>\n      <th>12</th>\n      <th>13</th>\n      <th>14</th>\n      <th>15</th>\n      <th>16</th>\n      <th>17</th>\n      <th>18</th>\n      <th>19</th>\n      <th>20</th>\n      <th>21</th>\n    </tr>\n  </thead>\n  <tbody>\n    <tr>\n      <th>0</th>\n      <td>NaN</td>\n      <td>NaN</td>\n      <td>COMMERCIAL</td>\n      <td>NaN</td>\n      <td>NaN</td>\n      <td>NaN</td>\n      <td>INDUSTRIAL</td>\n      <td>NaN</td>\n      <td>NaN</td>\n      <td>NaN</td>\n      <td>TRANSPORTATION</td>\n      <td>NaN</td>\n      <td>NaN</td>\n      <td>NaN</td>\n      <td>TOTAL</td>\n      <td>NaN</td>\n      <td>NaN</td>\n      <td>NaN</td>\n    </tr>\n    <tr>\n      <th>1</th>\n      <td>NaN</td>\n      <td>NaN</td>\n      <td>Revenues</td>\n      <td>Sales</td>\n      <td>Customers</td>\n      <td>Price</td>\n      <td>Revenues</td>\n      <td>Sales</td>\n      <td>Customers</td>\n      <td>Price</td>\n      <td>Revenues</td>\n      <td>Sales</td>\n      <td>Customers</td>\n      <td>Price</td>\n      <td>Revenues</td>\n      <td>Sales</td>\n      <td>Customers</td>\n      <td>Price</td>\n    </tr>\n    <tr>\n      <th>2</th>\n      <td>Year</td>\n      <td>STATE</td>\n      <td>Thousand Dollars</td>\n      <td>Megawatthours</td>\n      <td>Count</td>\n      <td>Cents/kWh</td>\n      <td>Thousand Dollars</td>\n      <td>Megawatthours</td>\n      <td>Count</td>\n      <td>Cents/kWh</td>\n      <td>Thousand Dollars</td>\n      <td>Megawatthours</td>\n      <td>Count</td>\n      <td>Cents/kWh</td>\n      <td>Thousand Dollars</td>\n      <td>Megawatthours</td>\n      <td>Count</td>\n      <td>Cents/kWh</td>\n    </tr>\n    <tr>\n      <th>3</th>\n      <td>2021</td>\n      <td>AK</td>\n      <td>501658</td>\n      <td>2558649</td>\n      <td>56005</td>\n      <td>19.61</td>\n      <td>223588</td>\n      <td>1326779</td>\n      <td>1135</td>\n      <td>16.85</td>\n      <td>0</td>\n      <td>0</td>\n      <td>0</td>\n      <td>0</td>\n      <td>1195132</td>\n      <td>5969339</td>\n      <td>349591</td>\n      <td>20.02</td>\n    </tr>\n    <tr>\n      <th>4</th>\n      <td>2021</td>\n      <td>AL</td>\n      <td>2586968</td>\n      <td>21844283</td>\n      <td>376180</td>\n      <td>11.84</td>\n      <td>2034105</td>\n      <td>32155730</td>\n      <td>7233</td>\n      <td>6.33</td>\n      <td>0</td>\n      <td>0</td>\n      <td>0</td>\n      <td>0</td>\n      <td>8713442</td>\n      <td>85585166</td>\n      <td>2691639</td>\n      <td>10.18</td>\n    </tr>\n    <tr>\n      <th>...</th>\n      <td>...</td>\n      <td>...</td>\n      <td>...</td>\n      <td>...</td>\n      <td>...</td>\n      <td>...</td>\n      <td>...</td>\n      <td>...</td>\n      <td>...</td>\n      <td>...</td>\n      <td>...</td>\n      <td>...</td>\n      <td>...</td>\n      <td>...</td>\n      <td>...</td>\n      <td>...</td>\n      <td>...</td>\n      <td>...</td>\n    </tr>\n    <tr>\n      <th>622</th>\n      <td>2010</td>\n      <td>WA</td>\n      <td>2125160</td>\n      <td>28833281</td>\n      <td>353330</td>\n      <td>7.37</td>\n      <td>1085311</td>\n      <td>26632814</td>\n      <td>27970</td>\n      <td>4.08</td>\n      <td>516</td>\n      <td>6949</td>\n      <td>6</td>\n      <td>7.42</td>\n      <td>6016578</td>\n      <td>90379970</td>\n      <td>3206587</td>\n      <td>6.66</td>\n    </tr>\n    <tr>\n      <th>623</th>\n      <td>2010</td>\n      <td>WI</td>\n      <td>2296381</td>\n      <td>23001117</td>\n      <td>338406</td>\n      <td>9.98</td>\n      <td>1606232</td>\n      <td>23451807</td>\n      <td>4496</td>\n      <td>6.85</td>\n      <td>0</td>\n      <td>0</td>\n      <td>0</td>\n      <td>0</td>\n      <td>6723234</td>\n      <td>68752417</td>\n      <td>2937600</td>\n      <td>9.78</td>\n    </tr>\n    <tr>\n      <th>624</th>\n      <td>2010</td>\n      <td>WV</td>\n      <td>610027</td>\n      <td>7961906</td>\n      <td>137209</td>\n      <td>7.66</td>\n      <td>681014</td>\n      <td>11622934</td>\n      <td>12348</td>\n      <td>5.86</td>\n      <td>365</td>\n      <td>4380</td>\n      <td>1</td>\n      <td>8.33</td>\n      <td>2385580</td>\n      <td>32031803</td>\n      <td>1017506</td>\n      <td>7.45</td>\n    </tr>\n    <tr>\n      <th>625</th>\n      <td>2010</td>\n      <td>WY</td>\n      <td>320135</td>\n      <td>4317140</td>\n      <td>59642</td>\n      <td>7.42</td>\n      <td>501285</td>\n      <td>10069117</td>\n      <td>8933</td>\n      <td>4.98</td>\n      <td>0</td>\n      <td>0</td>\n      <td>0</td>\n      <td>0</td>\n      <td>1060618</td>\n      <td>17113458</td>\n      <td>326022</td>\n      <td>6.2</td>\n    </tr>\n    <tr>\n      <th>626</th>\n      <td>2010</td>\n      <td>US</td>\n      <td>135553746</td>\n      <td>1330199364</td>\n      <td>17674338</td>\n      <td>10.19</td>\n      <td>65772007</td>\n      <td>971221189</td>\n      <td>747747</td>\n      <td>6.77</td>\n      <td>814346</td>\n      <td>7712412</td>\n      <td>239</td>\n      <td>10.56</td>\n      <td>368918140</td>\n      <td>3754841368</td>\n      <td>144140259</td>\n      <td>9.83</td>\n    </tr>\n  </tbody>\n</table>\n<p>627 rows × 18 columns</p>\n</div>"
     },
     "execution_count": 137,
     "metadata": {},
     "output_type": "execute_result"
    }
   ],
   "source": [
    "df"
   ],
   "metadata": {
    "collapsed": false,
    "pycharm": {
     "name": "#%%\n"
    }
   }
  },
  {
   "cell_type": "code",
   "execution_count": 138,
   "outputs": [],
   "source": [
    "df_commercial = df.iloc[3:,0:6]"
   ],
   "metadata": {
    "collapsed": false,
    "pycharm": {
     "name": "#%%\n"
    }
   }
  },
  {
   "cell_type": "code",
   "execution_count": 139,
   "outputs": [
    {
     "data": {
      "text/plain": "        0   1          6           7         8      9\n3    2021  AK     501658     2558649     56005  19.61\n4    2021  AL    2586968    21844283    376180  11.84\n5    2021  AR    1101412    11516908    201408   9.56\n6    2021  AZ    3098754    29990064    335377  10.33\n7    2021  CA   20861069   108761594   1750923  19.18\n..    ...  ..        ...         ...       ...    ...\n622  2010  WA    2125160    28833281    353330   7.37\n623  2010  WI    2296381    23001117    338406   9.98\n624  2010  WV     610027     7961906    137209   7.66\n625  2010  WY     320135     4317140     59642   7.42\n626  2010  US  135553746  1330199364  17674338  10.19\n\n[624 rows x 6 columns]",
      "text/html": "<div>\n<style scoped>\n    .dataframe tbody tr th:only-of-type {\n        vertical-align: middle;\n    }\n\n    .dataframe tbody tr th {\n        vertical-align: top;\n    }\n\n    .dataframe thead th {\n        text-align: right;\n    }\n</style>\n<table border=\"1\" class=\"dataframe\">\n  <thead>\n    <tr style=\"text-align: right;\">\n      <th></th>\n      <th>0</th>\n      <th>1</th>\n      <th>6</th>\n      <th>7</th>\n      <th>8</th>\n      <th>9</th>\n    </tr>\n  </thead>\n  <tbody>\n    <tr>\n      <th>3</th>\n      <td>2021</td>\n      <td>AK</td>\n      <td>501658</td>\n      <td>2558649</td>\n      <td>56005</td>\n      <td>19.61</td>\n    </tr>\n    <tr>\n      <th>4</th>\n      <td>2021</td>\n      <td>AL</td>\n      <td>2586968</td>\n      <td>21844283</td>\n      <td>376180</td>\n      <td>11.84</td>\n    </tr>\n    <tr>\n      <th>5</th>\n      <td>2021</td>\n      <td>AR</td>\n      <td>1101412</td>\n      <td>11516908</td>\n      <td>201408</td>\n      <td>9.56</td>\n    </tr>\n    <tr>\n      <th>6</th>\n      <td>2021</td>\n      <td>AZ</td>\n      <td>3098754</td>\n      <td>29990064</td>\n      <td>335377</td>\n      <td>10.33</td>\n    </tr>\n    <tr>\n      <th>7</th>\n      <td>2021</td>\n      <td>CA</td>\n      <td>20861069</td>\n      <td>108761594</td>\n      <td>1750923</td>\n      <td>19.18</td>\n    </tr>\n    <tr>\n      <th>...</th>\n      <td>...</td>\n      <td>...</td>\n      <td>...</td>\n      <td>...</td>\n      <td>...</td>\n      <td>...</td>\n    </tr>\n    <tr>\n      <th>622</th>\n      <td>2010</td>\n      <td>WA</td>\n      <td>2125160</td>\n      <td>28833281</td>\n      <td>353330</td>\n      <td>7.37</td>\n    </tr>\n    <tr>\n      <th>623</th>\n      <td>2010</td>\n      <td>WI</td>\n      <td>2296381</td>\n      <td>23001117</td>\n      <td>338406</td>\n      <td>9.98</td>\n    </tr>\n    <tr>\n      <th>624</th>\n      <td>2010</td>\n      <td>WV</td>\n      <td>610027</td>\n      <td>7961906</td>\n      <td>137209</td>\n      <td>7.66</td>\n    </tr>\n    <tr>\n      <th>625</th>\n      <td>2010</td>\n      <td>WY</td>\n      <td>320135</td>\n      <td>4317140</td>\n      <td>59642</td>\n      <td>7.42</td>\n    </tr>\n    <tr>\n      <th>626</th>\n      <td>2010</td>\n      <td>US</td>\n      <td>135553746</td>\n      <td>1330199364</td>\n      <td>17674338</td>\n      <td>10.19</td>\n    </tr>\n  </tbody>\n</table>\n<p>624 rows × 6 columns</p>\n</div>"
     },
     "execution_count": 139,
     "metadata": {},
     "output_type": "execute_result"
    }
   ],
   "source": [
    "df_commercial"
   ],
   "metadata": {
    "collapsed": false,
    "pycharm": {
     "name": "#%%\n"
    }
   }
  },
  {
   "cell_type": "code",
   "execution_count": 140,
   "outputs": [
    {
     "data": {
      "text/plain": "     Year State    Revenue       Sales Number of Customers  Price      Sector\n3    2021    AK     501658     2558649               56005  19.61  Commercial\n4    2021    AL    2586968    21844283              376180  11.84  Commercial\n5    2021    AR    1101412    11516908              201408   9.56  Commercial\n6    2021    AZ    3098754    29990064              335377  10.33  Commercial\n7    2021    CA   20861069   108761594             1750923  19.18  Commercial\n..    ...   ...        ...         ...                 ...    ...         ...\n622  2010    WA    2125160    28833281              353330   7.37  Commercial\n623  2010    WI    2296381    23001117              338406   9.98  Commercial\n624  2010    WV     610027     7961906              137209   7.66  Commercial\n625  2010    WY     320135     4317140               59642   7.42  Commercial\n626  2010    US  135553746  1330199364            17674338  10.19  Commercial\n\n[624 rows x 7 columns]",
      "text/html": "<div>\n<style scoped>\n    .dataframe tbody tr th:only-of-type {\n        vertical-align: middle;\n    }\n\n    .dataframe tbody tr th {\n        vertical-align: top;\n    }\n\n    .dataframe thead th {\n        text-align: right;\n    }\n</style>\n<table border=\"1\" class=\"dataframe\">\n  <thead>\n    <tr style=\"text-align: right;\">\n      <th></th>\n      <th>Year</th>\n      <th>State</th>\n      <th>Revenue</th>\n      <th>Sales</th>\n      <th>Number of Customers</th>\n      <th>Price</th>\n      <th>Sector</th>\n    </tr>\n  </thead>\n  <tbody>\n    <tr>\n      <th>3</th>\n      <td>2021</td>\n      <td>AK</td>\n      <td>501658</td>\n      <td>2558649</td>\n      <td>56005</td>\n      <td>19.61</td>\n      <td>Commercial</td>\n    </tr>\n    <tr>\n      <th>4</th>\n      <td>2021</td>\n      <td>AL</td>\n      <td>2586968</td>\n      <td>21844283</td>\n      <td>376180</td>\n      <td>11.84</td>\n      <td>Commercial</td>\n    </tr>\n    <tr>\n      <th>5</th>\n      <td>2021</td>\n      <td>AR</td>\n      <td>1101412</td>\n      <td>11516908</td>\n      <td>201408</td>\n      <td>9.56</td>\n      <td>Commercial</td>\n    </tr>\n    <tr>\n      <th>6</th>\n      <td>2021</td>\n      <td>AZ</td>\n      <td>3098754</td>\n      <td>29990064</td>\n      <td>335377</td>\n      <td>10.33</td>\n      <td>Commercial</td>\n    </tr>\n    <tr>\n      <th>7</th>\n      <td>2021</td>\n      <td>CA</td>\n      <td>20861069</td>\n      <td>108761594</td>\n      <td>1750923</td>\n      <td>19.18</td>\n      <td>Commercial</td>\n    </tr>\n    <tr>\n      <th>...</th>\n      <td>...</td>\n      <td>...</td>\n      <td>...</td>\n      <td>...</td>\n      <td>...</td>\n      <td>...</td>\n      <td>...</td>\n    </tr>\n    <tr>\n      <th>622</th>\n      <td>2010</td>\n      <td>WA</td>\n      <td>2125160</td>\n      <td>28833281</td>\n      <td>353330</td>\n      <td>7.37</td>\n      <td>Commercial</td>\n    </tr>\n    <tr>\n      <th>623</th>\n      <td>2010</td>\n      <td>WI</td>\n      <td>2296381</td>\n      <td>23001117</td>\n      <td>338406</td>\n      <td>9.98</td>\n      <td>Commercial</td>\n    </tr>\n    <tr>\n      <th>624</th>\n      <td>2010</td>\n      <td>WV</td>\n      <td>610027</td>\n      <td>7961906</td>\n      <td>137209</td>\n      <td>7.66</td>\n      <td>Commercial</td>\n    </tr>\n    <tr>\n      <th>625</th>\n      <td>2010</td>\n      <td>WY</td>\n      <td>320135</td>\n      <td>4317140</td>\n      <td>59642</td>\n      <td>7.42</td>\n      <td>Commercial</td>\n    </tr>\n    <tr>\n      <th>626</th>\n      <td>2010</td>\n      <td>US</td>\n      <td>135553746</td>\n      <td>1330199364</td>\n      <td>17674338</td>\n      <td>10.19</td>\n      <td>Commercial</td>\n    </tr>\n  </tbody>\n</table>\n<p>624 rows × 7 columns</p>\n</div>"
     },
     "execution_count": 140,
     "metadata": {},
     "output_type": "execute_result"
    }
   ],
   "source": [
    "\n",
    "df_commercial.columns = columns\n",
    "df_commercial['Sector'] = 'Commercial'\n",
    "df_commercial"
   ],
   "metadata": {
    "collapsed": false,
    "pycharm": {
     "name": "#%%\n"
    }
   }
  },
  {
   "cell_type": "code",
   "execution_count": 141,
   "outputs": [
    {
     "data": {
      "text/plain": "       0      1                 6              7          8          9   \\\n0     NaN    NaN        COMMERCIAL            NaN        NaN        NaN   \n1     NaN    NaN          Revenues          Sales  Customers      Price   \n2    Year  STATE  Thousand Dollars  Megawatthours      Count  Cents/kWh   \n3    2021     AK            501658        2558649      56005      19.61   \n4    2021     AL           2586968       21844283     376180      11.84   \n..    ...    ...               ...            ...        ...        ...   \n622  2010     WA           2125160       28833281     353330       7.37   \n623  2010     WI           2296381       23001117     338406       9.98   \n624  2010     WV            610027        7961906     137209       7.66   \n625  2010     WY            320135        4317140      59642       7.42   \n626  2010     US         135553746     1330199364   17674338      10.19   \n\n                   10             11         12         13                14  \\\n0          INDUSTRIAL            NaN        NaN        NaN    TRANSPORTATION   \n1            Revenues          Sales  Customers      Price          Revenues   \n2    Thousand Dollars  Megawatthours      Count  Cents/kWh  Thousand Dollars   \n3              223588        1326779       1135      16.85                 0   \n4             2034105       32155730       7233       6.33                 0   \n..                ...            ...        ...        ...               ...   \n622           1085311       26632814      27970       4.08               516   \n623           1606232       23451807       4496       6.85                 0   \n624            681014       11622934      12348       5.86               365   \n625            501285       10069117       8933       4.98                 0   \n626          65772007      971221189     747747       6.77            814346   \n\n                15         16         17                18             19  \\\n0              NaN        NaN        NaN             TOTAL            NaN   \n1            Sales  Customers      Price          Revenues          Sales   \n2    Megawatthours      Count  Cents/kWh  Thousand Dollars  Megawatthours   \n3                0          0          0           1195132        5969339   \n4                0          0          0           8713442       85585166   \n..             ...        ...        ...               ...            ...   \n622           6949          6       7.42           6016578       90379970   \n623              0          0          0           6723234       68752417   \n624           4380          1       8.33           2385580       32031803   \n625              0          0          0           1060618       17113458   \n626        7712412        239      10.56         368918140     3754841368   \n\n            20         21  \n0          NaN        NaN  \n1    Customers      Price  \n2        Count  Cents/kWh  \n3       349591      20.02  \n4      2691639      10.18  \n..         ...        ...  \n622    3206587       6.66  \n623    2937600       9.78  \n624    1017506       7.45  \n625     326022        6.2  \n626  144140259       9.83  \n\n[627 rows x 18 columns]",
      "text/html": "<div>\n<style scoped>\n    .dataframe tbody tr th:only-of-type {\n        vertical-align: middle;\n    }\n\n    .dataframe tbody tr th {\n        vertical-align: top;\n    }\n\n    .dataframe thead th {\n        text-align: right;\n    }\n</style>\n<table border=\"1\" class=\"dataframe\">\n  <thead>\n    <tr style=\"text-align: right;\">\n      <th></th>\n      <th>0</th>\n      <th>1</th>\n      <th>6</th>\n      <th>7</th>\n      <th>8</th>\n      <th>9</th>\n      <th>10</th>\n      <th>11</th>\n      <th>12</th>\n      <th>13</th>\n      <th>14</th>\n      <th>15</th>\n      <th>16</th>\n      <th>17</th>\n      <th>18</th>\n      <th>19</th>\n      <th>20</th>\n      <th>21</th>\n    </tr>\n  </thead>\n  <tbody>\n    <tr>\n      <th>0</th>\n      <td>NaN</td>\n      <td>NaN</td>\n      <td>COMMERCIAL</td>\n      <td>NaN</td>\n      <td>NaN</td>\n      <td>NaN</td>\n      <td>INDUSTRIAL</td>\n      <td>NaN</td>\n      <td>NaN</td>\n      <td>NaN</td>\n      <td>TRANSPORTATION</td>\n      <td>NaN</td>\n      <td>NaN</td>\n      <td>NaN</td>\n      <td>TOTAL</td>\n      <td>NaN</td>\n      <td>NaN</td>\n      <td>NaN</td>\n    </tr>\n    <tr>\n      <th>1</th>\n      <td>NaN</td>\n      <td>NaN</td>\n      <td>Revenues</td>\n      <td>Sales</td>\n      <td>Customers</td>\n      <td>Price</td>\n      <td>Revenues</td>\n      <td>Sales</td>\n      <td>Customers</td>\n      <td>Price</td>\n      <td>Revenues</td>\n      <td>Sales</td>\n      <td>Customers</td>\n      <td>Price</td>\n      <td>Revenues</td>\n      <td>Sales</td>\n      <td>Customers</td>\n      <td>Price</td>\n    </tr>\n    <tr>\n      <th>2</th>\n      <td>Year</td>\n      <td>STATE</td>\n      <td>Thousand Dollars</td>\n      <td>Megawatthours</td>\n      <td>Count</td>\n      <td>Cents/kWh</td>\n      <td>Thousand Dollars</td>\n      <td>Megawatthours</td>\n      <td>Count</td>\n      <td>Cents/kWh</td>\n      <td>Thousand Dollars</td>\n      <td>Megawatthours</td>\n      <td>Count</td>\n      <td>Cents/kWh</td>\n      <td>Thousand Dollars</td>\n      <td>Megawatthours</td>\n      <td>Count</td>\n      <td>Cents/kWh</td>\n    </tr>\n    <tr>\n      <th>3</th>\n      <td>2021</td>\n      <td>AK</td>\n      <td>501658</td>\n      <td>2558649</td>\n      <td>56005</td>\n      <td>19.61</td>\n      <td>223588</td>\n      <td>1326779</td>\n      <td>1135</td>\n      <td>16.85</td>\n      <td>0</td>\n      <td>0</td>\n      <td>0</td>\n      <td>0</td>\n      <td>1195132</td>\n      <td>5969339</td>\n      <td>349591</td>\n      <td>20.02</td>\n    </tr>\n    <tr>\n      <th>4</th>\n      <td>2021</td>\n      <td>AL</td>\n      <td>2586968</td>\n      <td>21844283</td>\n      <td>376180</td>\n      <td>11.84</td>\n      <td>2034105</td>\n      <td>32155730</td>\n      <td>7233</td>\n      <td>6.33</td>\n      <td>0</td>\n      <td>0</td>\n      <td>0</td>\n      <td>0</td>\n      <td>8713442</td>\n      <td>85585166</td>\n      <td>2691639</td>\n      <td>10.18</td>\n    </tr>\n    <tr>\n      <th>...</th>\n      <td>...</td>\n      <td>...</td>\n      <td>...</td>\n      <td>...</td>\n      <td>...</td>\n      <td>...</td>\n      <td>...</td>\n      <td>...</td>\n      <td>...</td>\n      <td>...</td>\n      <td>...</td>\n      <td>...</td>\n      <td>...</td>\n      <td>...</td>\n      <td>...</td>\n      <td>...</td>\n      <td>...</td>\n      <td>...</td>\n    </tr>\n    <tr>\n      <th>622</th>\n      <td>2010</td>\n      <td>WA</td>\n      <td>2125160</td>\n      <td>28833281</td>\n      <td>353330</td>\n      <td>7.37</td>\n      <td>1085311</td>\n      <td>26632814</td>\n      <td>27970</td>\n      <td>4.08</td>\n      <td>516</td>\n      <td>6949</td>\n      <td>6</td>\n      <td>7.42</td>\n      <td>6016578</td>\n      <td>90379970</td>\n      <td>3206587</td>\n      <td>6.66</td>\n    </tr>\n    <tr>\n      <th>623</th>\n      <td>2010</td>\n      <td>WI</td>\n      <td>2296381</td>\n      <td>23001117</td>\n      <td>338406</td>\n      <td>9.98</td>\n      <td>1606232</td>\n      <td>23451807</td>\n      <td>4496</td>\n      <td>6.85</td>\n      <td>0</td>\n      <td>0</td>\n      <td>0</td>\n      <td>0</td>\n      <td>6723234</td>\n      <td>68752417</td>\n      <td>2937600</td>\n      <td>9.78</td>\n    </tr>\n    <tr>\n      <th>624</th>\n      <td>2010</td>\n      <td>WV</td>\n      <td>610027</td>\n      <td>7961906</td>\n      <td>137209</td>\n      <td>7.66</td>\n      <td>681014</td>\n      <td>11622934</td>\n      <td>12348</td>\n      <td>5.86</td>\n      <td>365</td>\n      <td>4380</td>\n      <td>1</td>\n      <td>8.33</td>\n      <td>2385580</td>\n      <td>32031803</td>\n      <td>1017506</td>\n      <td>7.45</td>\n    </tr>\n    <tr>\n      <th>625</th>\n      <td>2010</td>\n      <td>WY</td>\n      <td>320135</td>\n      <td>4317140</td>\n      <td>59642</td>\n      <td>7.42</td>\n      <td>501285</td>\n      <td>10069117</td>\n      <td>8933</td>\n      <td>4.98</td>\n      <td>0</td>\n      <td>0</td>\n      <td>0</td>\n      <td>0</td>\n      <td>1060618</td>\n      <td>17113458</td>\n      <td>326022</td>\n      <td>6.2</td>\n    </tr>\n    <tr>\n      <th>626</th>\n      <td>2010</td>\n      <td>US</td>\n      <td>135553746</td>\n      <td>1330199364</td>\n      <td>17674338</td>\n      <td>10.19</td>\n      <td>65772007</td>\n      <td>971221189</td>\n      <td>747747</td>\n      <td>6.77</td>\n      <td>814346</td>\n      <td>7712412</td>\n      <td>239</td>\n      <td>10.56</td>\n      <td>368918140</td>\n      <td>3754841368</td>\n      <td>144140259</td>\n      <td>9.83</td>\n    </tr>\n  </tbody>\n</table>\n<p>627 rows × 18 columns</p>\n</div>"
     },
     "execution_count": 141,
     "metadata": {},
     "output_type": "execute_result"
    }
   ],
   "source": [
    "df\n"
   ],
   "metadata": {
    "collapsed": false,
    "pycharm": {
     "name": "#%%\n"
    }
   }
  },
  {
   "cell_type": "code",
   "execution_count": 142,
   "outputs": [],
   "source": [
    "df.drop([6,7,8,9], axis = 1,inplace=True)"
   ],
   "metadata": {
    "collapsed": false,
    "pycharm": {
     "name": "#%%\n"
    }
   }
  },
  {
   "cell_type": "code",
   "execution_count": 143,
   "outputs": [
    {
     "data": {
      "text/plain": "       0      1                 10             11         12         13  \\\n0     NaN    NaN        INDUSTRIAL            NaN        NaN        NaN   \n1     NaN    NaN          Revenues          Sales  Customers      Price   \n2    Year  STATE  Thousand Dollars  Megawatthours      Count  Cents/kWh   \n3    2021     AK            223588        1326779       1135      16.85   \n4    2021     AL           2034105       32155730       7233       6.33   \n..    ...    ...               ...            ...        ...        ...   \n622  2010     WA           1085311       26632814      27970       4.08   \n623  2010     WI           1606232       23451807       4496       6.85   \n624  2010     WV            681014       11622934      12348       5.86   \n625  2010     WY            501285       10069117       8933       4.98   \n626  2010     US          65772007      971221189     747747       6.77   \n\n                   14             15         16         17                18  \\\n0      TRANSPORTATION            NaN        NaN        NaN             TOTAL   \n1            Revenues          Sales  Customers      Price          Revenues   \n2    Thousand Dollars  Megawatthours      Count  Cents/kWh  Thousand Dollars   \n3                   0              0          0          0           1195132   \n4                   0              0          0          0           8713442   \n..                ...            ...        ...        ...               ...   \n622               516           6949          6       7.42           6016578   \n623                 0              0          0          0           6723234   \n624               365           4380          1       8.33           2385580   \n625                 0              0          0          0           1060618   \n626            814346        7712412        239      10.56         368918140   \n\n                19         20         21  \n0              NaN        NaN        NaN  \n1            Sales  Customers      Price  \n2    Megawatthours      Count  Cents/kWh  \n3          5969339     349591      20.02  \n4         85585166    2691639      10.18  \n..             ...        ...        ...  \n622       90379970    3206587       6.66  \n623       68752417    2937600       9.78  \n624       32031803    1017506       7.45  \n625       17113458     326022        6.2  \n626     3754841368  144140259       9.83  \n\n[627 rows x 14 columns]",
      "text/html": "<div>\n<style scoped>\n    .dataframe tbody tr th:only-of-type {\n        vertical-align: middle;\n    }\n\n    .dataframe tbody tr th {\n        vertical-align: top;\n    }\n\n    .dataframe thead th {\n        text-align: right;\n    }\n</style>\n<table border=\"1\" class=\"dataframe\">\n  <thead>\n    <tr style=\"text-align: right;\">\n      <th></th>\n      <th>0</th>\n      <th>1</th>\n      <th>10</th>\n      <th>11</th>\n      <th>12</th>\n      <th>13</th>\n      <th>14</th>\n      <th>15</th>\n      <th>16</th>\n      <th>17</th>\n      <th>18</th>\n      <th>19</th>\n      <th>20</th>\n      <th>21</th>\n    </tr>\n  </thead>\n  <tbody>\n    <tr>\n      <th>0</th>\n      <td>NaN</td>\n      <td>NaN</td>\n      <td>INDUSTRIAL</td>\n      <td>NaN</td>\n      <td>NaN</td>\n      <td>NaN</td>\n      <td>TRANSPORTATION</td>\n      <td>NaN</td>\n      <td>NaN</td>\n      <td>NaN</td>\n      <td>TOTAL</td>\n      <td>NaN</td>\n      <td>NaN</td>\n      <td>NaN</td>\n    </tr>\n    <tr>\n      <th>1</th>\n      <td>NaN</td>\n      <td>NaN</td>\n      <td>Revenues</td>\n      <td>Sales</td>\n      <td>Customers</td>\n      <td>Price</td>\n      <td>Revenues</td>\n      <td>Sales</td>\n      <td>Customers</td>\n      <td>Price</td>\n      <td>Revenues</td>\n      <td>Sales</td>\n      <td>Customers</td>\n      <td>Price</td>\n    </tr>\n    <tr>\n      <th>2</th>\n      <td>Year</td>\n      <td>STATE</td>\n      <td>Thousand Dollars</td>\n      <td>Megawatthours</td>\n      <td>Count</td>\n      <td>Cents/kWh</td>\n      <td>Thousand Dollars</td>\n      <td>Megawatthours</td>\n      <td>Count</td>\n      <td>Cents/kWh</td>\n      <td>Thousand Dollars</td>\n      <td>Megawatthours</td>\n      <td>Count</td>\n      <td>Cents/kWh</td>\n    </tr>\n    <tr>\n      <th>3</th>\n      <td>2021</td>\n      <td>AK</td>\n      <td>223588</td>\n      <td>1326779</td>\n      <td>1135</td>\n      <td>16.85</td>\n      <td>0</td>\n      <td>0</td>\n      <td>0</td>\n      <td>0</td>\n      <td>1195132</td>\n      <td>5969339</td>\n      <td>349591</td>\n      <td>20.02</td>\n    </tr>\n    <tr>\n      <th>4</th>\n      <td>2021</td>\n      <td>AL</td>\n      <td>2034105</td>\n      <td>32155730</td>\n      <td>7233</td>\n      <td>6.33</td>\n      <td>0</td>\n      <td>0</td>\n      <td>0</td>\n      <td>0</td>\n      <td>8713442</td>\n      <td>85585166</td>\n      <td>2691639</td>\n      <td>10.18</td>\n    </tr>\n    <tr>\n      <th>...</th>\n      <td>...</td>\n      <td>...</td>\n      <td>...</td>\n      <td>...</td>\n      <td>...</td>\n      <td>...</td>\n      <td>...</td>\n      <td>...</td>\n      <td>...</td>\n      <td>...</td>\n      <td>...</td>\n      <td>...</td>\n      <td>...</td>\n      <td>...</td>\n    </tr>\n    <tr>\n      <th>622</th>\n      <td>2010</td>\n      <td>WA</td>\n      <td>1085311</td>\n      <td>26632814</td>\n      <td>27970</td>\n      <td>4.08</td>\n      <td>516</td>\n      <td>6949</td>\n      <td>6</td>\n      <td>7.42</td>\n      <td>6016578</td>\n      <td>90379970</td>\n      <td>3206587</td>\n      <td>6.66</td>\n    </tr>\n    <tr>\n      <th>623</th>\n      <td>2010</td>\n      <td>WI</td>\n      <td>1606232</td>\n      <td>23451807</td>\n      <td>4496</td>\n      <td>6.85</td>\n      <td>0</td>\n      <td>0</td>\n      <td>0</td>\n      <td>0</td>\n      <td>6723234</td>\n      <td>68752417</td>\n      <td>2937600</td>\n      <td>9.78</td>\n    </tr>\n    <tr>\n      <th>624</th>\n      <td>2010</td>\n      <td>WV</td>\n      <td>681014</td>\n      <td>11622934</td>\n      <td>12348</td>\n      <td>5.86</td>\n      <td>365</td>\n      <td>4380</td>\n      <td>1</td>\n      <td>8.33</td>\n      <td>2385580</td>\n      <td>32031803</td>\n      <td>1017506</td>\n      <td>7.45</td>\n    </tr>\n    <tr>\n      <th>625</th>\n      <td>2010</td>\n      <td>WY</td>\n      <td>501285</td>\n      <td>10069117</td>\n      <td>8933</td>\n      <td>4.98</td>\n      <td>0</td>\n      <td>0</td>\n      <td>0</td>\n      <td>0</td>\n      <td>1060618</td>\n      <td>17113458</td>\n      <td>326022</td>\n      <td>6.2</td>\n    </tr>\n    <tr>\n      <th>626</th>\n      <td>2010</td>\n      <td>US</td>\n      <td>65772007</td>\n      <td>971221189</td>\n      <td>747747</td>\n      <td>6.77</td>\n      <td>814346</td>\n      <td>7712412</td>\n      <td>239</td>\n      <td>10.56</td>\n      <td>368918140</td>\n      <td>3754841368</td>\n      <td>144140259</td>\n      <td>9.83</td>\n    </tr>\n  </tbody>\n</table>\n<p>627 rows × 14 columns</p>\n</div>"
     },
     "execution_count": 143,
     "metadata": {},
     "output_type": "execute_result"
    }
   ],
   "source": [
    "df"
   ],
   "metadata": {
    "collapsed": false,
    "pycharm": {
     "name": "#%%\n"
    }
   }
  },
  {
   "cell_type": "code",
   "execution_count": 144,
   "outputs": [],
   "source": [
    "df_industrial = df.iloc[3:,0:6]"
   ],
   "metadata": {
    "collapsed": false,
    "pycharm": {
     "name": "#%%\n"
    }
   }
  },
  {
   "cell_type": "code",
   "execution_count": 145,
   "outputs": [
    {
     "data": {
      "text/plain": "       0   1         10         11      12     13\n3    2021  AK    223588    1326779    1135  16.85\n4    2021  AL   2034105   32155730    7233   6.33\n5    2021  AR   1196803   18228014   36628   6.57\n6    2021  AZ    956213   14089072    7548   6.79\n7    2021  CA   7050423   47583329  149389  14.82\n..    ...  ..       ...        ...     ...    ...\n622  2010  WA   1085311   26632814   27970   4.08\n623  2010  WI   1606232   23451807    4496   6.85\n624  2010  WV    681014   11622934   12348   5.86\n625  2010  WY    501285   10069117    8933   4.98\n626  2010  US  65772007  971221189  747747   6.77\n\n[624 rows x 6 columns]",
      "text/html": "<div>\n<style scoped>\n    .dataframe tbody tr th:only-of-type {\n        vertical-align: middle;\n    }\n\n    .dataframe tbody tr th {\n        vertical-align: top;\n    }\n\n    .dataframe thead th {\n        text-align: right;\n    }\n</style>\n<table border=\"1\" class=\"dataframe\">\n  <thead>\n    <tr style=\"text-align: right;\">\n      <th></th>\n      <th>0</th>\n      <th>1</th>\n      <th>10</th>\n      <th>11</th>\n      <th>12</th>\n      <th>13</th>\n    </tr>\n  </thead>\n  <tbody>\n    <tr>\n      <th>3</th>\n      <td>2021</td>\n      <td>AK</td>\n      <td>223588</td>\n      <td>1326779</td>\n      <td>1135</td>\n      <td>16.85</td>\n    </tr>\n    <tr>\n      <th>4</th>\n      <td>2021</td>\n      <td>AL</td>\n      <td>2034105</td>\n      <td>32155730</td>\n      <td>7233</td>\n      <td>6.33</td>\n    </tr>\n    <tr>\n      <th>5</th>\n      <td>2021</td>\n      <td>AR</td>\n      <td>1196803</td>\n      <td>18228014</td>\n      <td>36628</td>\n      <td>6.57</td>\n    </tr>\n    <tr>\n      <th>6</th>\n      <td>2021</td>\n      <td>AZ</td>\n      <td>956213</td>\n      <td>14089072</td>\n      <td>7548</td>\n      <td>6.79</td>\n    </tr>\n    <tr>\n      <th>7</th>\n      <td>2021</td>\n      <td>CA</td>\n      <td>7050423</td>\n      <td>47583329</td>\n      <td>149389</td>\n      <td>14.82</td>\n    </tr>\n    <tr>\n      <th>...</th>\n      <td>...</td>\n      <td>...</td>\n      <td>...</td>\n      <td>...</td>\n      <td>...</td>\n      <td>...</td>\n    </tr>\n    <tr>\n      <th>622</th>\n      <td>2010</td>\n      <td>WA</td>\n      <td>1085311</td>\n      <td>26632814</td>\n      <td>27970</td>\n      <td>4.08</td>\n    </tr>\n    <tr>\n      <th>623</th>\n      <td>2010</td>\n      <td>WI</td>\n      <td>1606232</td>\n      <td>23451807</td>\n      <td>4496</td>\n      <td>6.85</td>\n    </tr>\n    <tr>\n      <th>624</th>\n      <td>2010</td>\n      <td>WV</td>\n      <td>681014</td>\n      <td>11622934</td>\n      <td>12348</td>\n      <td>5.86</td>\n    </tr>\n    <tr>\n      <th>625</th>\n      <td>2010</td>\n      <td>WY</td>\n      <td>501285</td>\n      <td>10069117</td>\n      <td>8933</td>\n      <td>4.98</td>\n    </tr>\n    <tr>\n      <th>626</th>\n      <td>2010</td>\n      <td>US</td>\n      <td>65772007</td>\n      <td>971221189</td>\n      <td>747747</td>\n      <td>6.77</td>\n    </tr>\n  </tbody>\n</table>\n<p>624 rows × 6 columns</p>\n</div>"
     },
     "execution_count": 145,
     "metadata": {},
     "output_type": "execute_result"
    }
   ],
   "source": [
    "df_industrial"
   ],
   "metadata": {
    "collapsed": false,
    "pycharm": {
     "name": "#%%\n"
    }
   }
  },
  {
   "cell_type": "code",
   "execution_count": 146,
   "outputs": [
    {
     "data": {
      "text/plain": "     Year State   Revenue      Sales Number of Customers  Price      Sector\n3    2021    AK    223588    1326779                1135  16.85  Industrial\n4    2021    AL   2034105   32155730                7233   6.33  Industrial\n5    2021    AR   1196803   18228014               36628   6.57  Industrial\n6    2021    AZ    956213   14089072                7548   6.79  Industrial\n7    2021    CA   7050423   47583329              149389  14.82  Industrial\n..    ...   ...       ...        ...                 ...    ...         ...\n622  2010    WA   1085311   26632814               27970   4.08  Industrial\n623  2010    WI   1606232   23451807                4496   6.85  Industrial\n624  2010    WV    681014   11622934               12348   5.86  Industrial\n625  2010    WY    501285   10069117                8933   4.98  Industrial\n626  2010    US  65772007  971221189              747747   6.77  Industrial\n\n[624 rows x 7 columns]",
      "text/html": "<div>\n<style scoped>\n    .dataframe tbody tr th:only-of-type {\n        vertical-align: middle;\n    }\n\n    .dataframe tbody tr th {\n        vertical-align: top;\n    }\n\n    .dataframe thead th {\n        text-align: right;\n    }\n</style>\n<table border=\"1\" class=\"dataframe\">\n  <thead>\n    <tr style=\"text-align: right;\">\n      <th></th>\n      <th>Year</th>\n      <th>State</th>\n      <th>Revenue</th>\n      <th>Sales</th>\n      <th>Number of Customers</th>\n      <th>Price</th>\n      <th>Sector</th>\n    </tr>\n  </thead>\n  <tbody>\n    <tr>\n      <th>3</th>\n      <td>2021</td>\n      <td>AK</td>\n      <td>223588</td>\n      <td>1326779</td>\n      <td>1135</td>\n      <td>16.85</td>\n      <td>Industrial</td>\n    </tr>\n    <tr>\n      <th>4</th>\n      <td>2021</td>\n      <td>AL</td>\n      <td>2034105</td>\n      <td>32155730</td>\n      <td>7233</td>\n      <td>6.33</td>\n      <td>Industrial</td>\n    </tr>\n    <tr>\n      <th>5</th>\n      <td>2021</td>\n      <td>AR</td>\n      <td>1196803</td>\n      <td>18228014</td>\n      <td>36628</td>\n      <td>6.57</td>\n      <td>Industrial</td>\n    </tr>\n    <tr>\n      <th>6</th>\n      <td>2021</td>\n      <td>AZ</td>\n      <td>956213</td>\n      <td>14089072</td>\n      <td>7548</td>\n      <td>6.79</td>\n      <td>Industrial</td>\n    </tr>\n    <tr>\n      <th>7</th>\n      <td>2021</td>\n      <td>CA</td>\n      <td>7050423</td>\n      <td>47583329</td>\n      <td>149389</td>\n      <td>14.82</td>\n      <td>Industrial</td>\n    </tr>\n    <tr>\n      <th>...</th>\n      <td>...</td>\n      <td>...</td>\n      <td>...</td>\n      <td>...</td>\n      <td>...</td>\n      <td>...</td>\n      <td>...</td>\n    </tr>\n    <tr>\n      <th>622</th>\n      <td>2010</td>\n      <td>WA</td>\n      <td>1085311</td>\n      <td>26632814</td>\n      <td>27970</td>\n      <td>4.08</td>\n      <td>Industrial</td>\n    </tr>\n    <tr>\n      <th>623</th>\n      <td>2010</td>\n      <td>WI</td>\n      <td>1606232</td>\n      <td>23451807</td>\n      <td>4496</td>\n      <td>6.85</td>\n      <td>Industrial</td>\n    </tr>\n    <tr>\n      <th>624</th>\n      <td>2010</td>\n      <td>WV</td>\n      <td>681014</td>\n      <td>11622934</td>\n      <td>12348</td>\n      <td>5.86</td>\n      <td>Industrial</td>\n    </tr>\n    <tr>\n      <th>625</th>\n      <td>2010</td>\n      <td>WY</td>\n      <td>501285</td>\n      <td>10069117</td>\n      <td>8933</td>\n      <td>4.98</td>\n      <td>Industrial</td>\n    </tr>\n    <tr>\n      <th>626</th>\n      <td>2010</td>\n      <td>US</td>\n      <td>65772007</td>\n      <td>971221189</td>\n      <td>747747</td>\n      <td>6.77</td>\n      <td>Industrial</td>\n    </tr>\n  </tbody>\n</table>\n<p>624 rows × 7 columns</p>\n</div>"
     },
     "execution_count": 146,
     "metadata": {},
     "output_type": "execute_result"
    }
   ],
   "source": [
    "df_industrial.columns = columns\n",
    "df_industrial['Sector'] = 'Industrial'\n",
    "df_industrial"
   ],
   "metadata": {
    "collapsed": false,
    "pycharm": {
     "name": "#%%\n"
    }
   }
  },
  {
   "cell_type": "code",
   "execution_count": 147,
   "outputs": [
    {
     "data": {
      "text/plain": "       0      1                 10             11         12         13  \\\n0     NaN    NaN        INDUSTRIAL            NaN        NaN        NaN   \n1     NaN    NaN          Revenues          Sales  Customers      Price   \n2    Year  STATE  Thousand Dollars  Megawatthours      Count  Cents/kWh   \n3    2021     AK            223588        1326779       1135      16.85   \n4    2021     AL           2034105       32155730       7233       6.33   \n..    ...    ...               ...            ...        ...        ...   \n622  2010     WA           1085311       26632814      27970       4.08   \n623  2010     WI           1606232       23451807       4496       6.85   \n624  2010     WV            681014       11622934      12348       5.86   \n625  2010     WY            501285       10069117       8933       4.98   \n626  2010     US          65772007      971221189     747747       6.77   \n\n                   14             15         16         17                18  \\\n0      TRANSPORTATION            NaN        NaN        NaN             TOTAL   \n1            Revenues          Sales  Customers      Price          Revenues   \n2    Thousand Dollars  Megawatthours      Count  Cents/kWh  Thousand Dollars   \n3                   0              0          0          0           1195132   \n4                   0              0          0          0           8713442   \n..                ...            ...        ...        ...               ...   \n622               516           6949          6       7.42           6016578   \n623                 0              0          0          0           6723234   \n624               365           4380          1       8.33           2385580   \n625                 0              0          0          0           1060618   \n626            814346        7712412        239      10.56         368918140   \n\n                19         20         21  \n0              NaN        NaN        NaN  \n1            Sales  Customers      Price  \n2    Megawatthours      Count  Cents/kWh  \n3          5969339     349591      20.02  \n4         85585166    2691639      10.18  \n..             ...        ...        ...  \n622       90379970    3206587       6.66  \n623       68752417    2937600       9.78  \n624       32031803    1017506       7.45  \n625       17113458     326022        6.2  \n626     3754841368  144140259       9.83  \n\n[627 rows x 14 columns]",
      "text/html": "<div>\n<style scoped>\n    .dataframe tbody tr th:only-of-type {\n        vertical-align: middle;\n    }\n\n    .dataframe tbody tr th {\n        vertical-align: top;\n    }\n\n    .dataframe thead th {\n        text-align: right;\n    }\n</style>\n<table border=\"1\" class=\"dataframe\">\n  <thead>\n    <tr style=\"text-align: right;\">\n      <th></th>\n      <th>0</th>\n      <th>1</th>\n      <th>10</th>\n      <th>11</th>\n      <th>12</th>\n      <th>13</th>\n      <th>14</th>\n      <th>15</th>\n      <th>16</th>\n      <th>17</th>\n      <th>18</th>\n      <th>19</th>\n      <th>20</th>\n      <th>21</th>\n    </tr>\n  </thead>\n  <tbody>\n    <tr>\n      <th>0</th>\n      <td>NaN</td>\n      <td>NaN</td>\n      <td>INDUSTRIAL</td>\n      <td>NaN</td>\n      <td>NaN</td>\n      <td>NaN</td>\n      <td>TRANSPORTATION</td>\n      <td>NaN</td>\n      <td>NaN</td>\n      <td>NaN</td>\n      <td>TOTAL</td>\n      <td>NaN</td>\n      <td>NaN</td>\n      <td>NaN</td>\n    </tr>\n    <tr>\n      <th>1</th>\n      <td>NaN</td>\n      <td>NaN</td>\n      <td>Revenues</td>\n      <td>Sales</td>\n      <td>Customers</td>\n      <td>Price</td>\n      <td>Revenues</td>\n      <td>Sales</td>\n      <td>Customers</td>\n      <td>Price</td>\n      <td>Revenues</td>\n      <td>Sales</td>\n      <td>Customers</td>\n      <td>Price</td>\n    </tr>\n    <tr>\n      <th>2</th>\n      <td>Year</td>\n      <td>STATE</td>\n      <td>Thousand Dollars</td>\n      <td>Megawatthours</td>\n      <td>Count</td>\n      <td>Cents/kWh</td>\n      <td>Thousand Dollars</td>\n      <td>Megawatthours</td>\n      <td>Count</td>\n      <td>Cents/kWh</td>\n      <td>Thousand Dollars</td>\n      <td>Megawatthours</td>\n      <td>Count</td>\n      <td>Cents/kWh</td>\n    </tr>\n    <tr>\n      <th>3</th>\n      <td>2021</td>\n      <td>AK</td>\n      <td>223588</td>\n      <td>1326779</td>\n      <td>1135</td>\n      <td>16.85</td>\n      <td>0</td>\n      <td>0</td>\n      <td>0</td>\n      <td>0</td>\n      <td>1195132</td>\n      <td>5969339</td>\n      <td>349591</td>\n      <td>20.02</td>\n    </tr>\n    <tr>\n      <th>4</th>\n      <td>2021</td>\n      <td>AL</td>\n      <td>2034105</td>\n      <td>32155730</td>\n      <td>7233</td>\n      <td>6.33</td>\n      <td>0</td>\n      <td>0</td>\n      <td>0</td>\n      <td>0</td>\n      <td>8713442</td>\n      <td>85585166</td>\n      <td>2691639</td>\n      <td>10.18</td>\n    </tr>\n    <tr>\n      <th>...</th>\n      <td>...</td>\n      <td>...</td>\n      <td>...</td>\n      <td>...</td>\n      <td>...</td>\n      <td>...</td>\n      <td>...</td>\n      <td>...</td>\n      <td>...</td>\n      <td>...</td>\n      <td>...</td>\n      <td>...</td>\n      <td>...</td>\n      <td>...</td>\n    </tr>\n    <tr>\n      <th>622</th>\n      <td>2010</td>\n      <td>WA</td>\n      <td>1085311</td>\n      <td>26632814</td>\n      <td>27970</td>\n      <td>4.08</td>\n      <td>516</td>\n      <td>6949</td>\n      <td>6</td>\n      <td>7.42</td>\n      <td>6016578</td>\n      <td>90379970</td>\n      <td>3206587</td>\n      <td>6.66</td>\n    </tr>\n    <tr>\n      <th>623</th>\n      <td>2010</td>\n      <td>WI</td>\n      <td>1606232</td>\n      <td>23451807</td>\n      <td>4496</td>\n      <td>6.85</td>\n      <td>0</td>\n      <td>0</td>\n      <td>0</td>\n      <td>0</td>\n      <td>6723234</td>\n      <td>68752417</td>\n      <td>2937600</td>\n      <td>9.78</td>\n    </tr>\n    <tr>\n      <th>624</th>\n      <td>2010</td>\n      <td>WV</td>\n      <td>681014</td>\n      <td>11622934</td>\n      <td>12348</td>\n      <td>5.86</td>\n      <td>365</td>\n      <td>4380</td>\n      <td>1</td>\n      <td>8.33</td>\n      <td>2385580</td>\n      <td>32031803</td>\n      <td>1017506</td>\n      <td>7.45</td>\n    </tr>\n    <tr>\n      <th>625</th>\n      <td>2010</td>\n      <td>WY</td>\n      <td>501285</td>\n      <td>10069117</td>\n      <td>8933</td>\n      <td>4.98</td>\n      <td>0</td>\n      <td>0</td>\n      <td>0</td>\n      <td>0</td>\n      <td>1060618</td>\n      <td>17113458</td>\n      <td>326022</td>\n      <td>6.2</td>\n    </tr>\n    <tr>\n      <th>626</th>\n      <td>2010</td>\n      <td>US</td>\n      <td>65772007</td>\n      <td>971221189</td>\n      <td>747747</td>\n      <td>6.77</td>\n      <td>814346</td>\n      <td>7712412</td>\n      <td>239</td>\n      <td>10.56</td>\n      <td>368918140</td>\n      <td>3754841368</td>\n      <td>144140259</td>\n      <td>9.83</td>\n    </tr>\n  </tbody>\n</table>\n<p>627 rows × 14 columns</p>\n</div>"
     },
     "execution_count": 147,
     "metadata": {},
     "output_type": "execute_result"
    }
   ],
   "source": [
    "df"
   ],
   "metadata": {
    "collapsed": false,
    "pycharm": {
     "name": "#%%\n"
    }
   }
  },
  {
   "cell_type": "code",
   "execution_count": 148,
   "outputs": [],
   "source": [
    "df.drop([10,11,12,13], axis = 1,inplace=True)"
   ],
   "metadata": {
    "collapsed": false,
    "pycharm": {
     "name": "#%%\n"
    }
   }
  },
  {
   "cell_type": "code",
   "execution_count": 149,
   "outputs": [
    {
     "data": {
      "text/plain": "       0      1                 14             15         16         17  \\\n0     NaN    NaN    TRANSPORTATION            NaN        NaN        NaN   \n1     NaN    NaN          Revenues          Sales  Customers      Price   \n2    Year  STATE  Thousand Dollars  Megawatthours      Count  Cents/kWh   \n3    2021     AK                 0              0          0          0   \n4    2021     AL                 0              0          0          0   \n..    ...    ...               ...            ...        ...        ...   \n622  2010     WA               516           6949          6       7.42   \n623  2010     WI                 0              0          0          0   \n624  2010     WV               365           4380          1       8.33   \n625  2010     WY                 0              0          0          0   \n626  2010     US            814346        7712412        239      10.56   \n\n                   18             19         20         21  \n0               TOTAL            NaN        NaN        NaN  \n1            Revenues          Sales  Customers      Price  \n2    Thousand Dollars  Megawatthours      Count  Cents/kWh  \n3             1195132        5969339     349591      20.02  \n4             8713442       85585166    2691639      10.18  \n..                ...            ...        ...        ...  \n622           6016578       90379970    3206587       6.66  \n623           6723234       68752417    2937600       9.78  \n624           2385580       32031803    1017506       7.45  \n625           1060618       17113458     326022        6.2  \n626         368918140     3754841368  144140259       9.83  \n\n[627 rows x 10 columns]",
      "text/html": "<div>\n<style scoped>\n    .dataframe tbody tr th:only-of-type {\n        vertical-align: middle;\n    }\n\n    .dataframe tbody tr th {\n        vertical-align: top;\n    }\n\n    .dataframe thead th {\n        text-align: right;\n    }\n</style>\n<table border=\"1\" class=\"dataframe\">\n  <thead>\n    <tr style=\"text-align: right;\">\n      <th></th>\n      <th>0</th>\n      <th>1</th>\n      <th>14</th>\n      <th>15</th>\n      <th>16</th>\n      <th>17</th>\n      <th>18</th>\n      <th>19</th>\n      <th>20</th>\n      <th>21</th>\n    </tr>\n  </thead>\n  <tbody>\n    <tr>\n      <th>0</th>\n      <td>NaN</td>\n      <td>NaN</td>\n      <td>TRANSPORTATION</td>\n      <td>NaN</td>\n      <td>NaN</td>\n      <td>NaN</td>\n      <td>TOTAL</td>\n      <td>NaN</td>\n      <td>NaN</td>\n      <td>NaN</td>\n    </tr>\n    <tr>\n      <th>1</th>\n      <td>NaN</td>\n      <td>NaN</td>\n      <td>Revenues</td>\n      <td>Sales</td>\n      <td>Customers</td>\n      <td>Price</td>\n      <td>Revenues</td>\n      <td>Sales</td>\n      <td>Customers</td>\n      <td>Price</td>\n    </tr>\n    <tr>\n      <th>2</th>\n      <td>Year</td>\n      <td>STATE</td>\n      <td>Thousand Dollars</td>\n      <td>Megawatthours</td>\n      <td>Count</td>\n      <td>Cents/kWh</td>\n      <td>Thousand Dollars</td>\n      <td>Megawatthours</td>\n      <td>Count</td>\n      <td>Cents/kWh</td>\n    </tr>\n    <tr>\n      <th>3</th>\n      <td>2021</td>\n      <td>AK</td>\n      <td>0</td>\n      <td>0</td>\n      <td>0</td>\n      <td>0</td>\n      <td>1195132</td>\n      <td>5969339</td>\n      <td>349591</td>\n      <td>20.02</td>\n    </tr>\n    <tr>\n      <th>4</th>\n      <td>2021</td>\n      <td>AL</td>\n      <td>0</td>\n      <td>0</td>\n      <td>0</td>\n      <td>0</td>\n      <td>8713442</td>\n      <td>85585166</td>\n      <td>2691639</td>\n      <td>10.18</td>\n    </tr>\n    <tr>\n      <th>...</th>\n      <td>...</td>\n      <td>...</td>\n      <td>...</td>\n      <td>...</td>\n      <td>...</td>\n      <td>...</td>\n      <td>...</td>\n      <td>...</td>\n      <td>...</td>\n      <td>...</td>\n    </tr>\n    <tr>\n      <th>622</th>\n      <td>2010</td>\n      <td>WA</td>\n      <td>516</td>\n      <td>6949</td>\n      <td>6</td>\n      <td>7.42</td>\n      <td>6016578</td>\n      <td>90379970</td>\n      <td>3206587</td>\n      <td>6.66</td>\n    </tr>\n    <tr>\n      <th>623</th>\n      <td>2010</td>\n      <td>WI</td>\n      <td>0</td>\n      <td>0</td>\n      <td>0</td>\n      <td>0</td>\n      <td>6723234</td>\n      <td>68752417</td>\n      <td>2937600</td>\n      <td>9.78</td>\n    </tr>\n    <tr>\n      <th>624</th>\n      <td>2010</td>\n      <td>WV</td>\n      <td>365</td>\n      <td>4380</td>\n      <td>1</td>\n      <td>8.33</td>\n      <td>2385580</td>\n      <td>32031803</td>\n      <td>1017506</td>\n      <td>7.45</td>\n    </tr>\n    <tr>\n      <th>625</th>\n      <td>2010</td>\n      <td>WY</td>\n      <td>0</td>\n      <td>0</td>\n      <td>0</td>\n      <td>0</td>\n      <td>1060618</td>\n      <td>17113458</td>\n      <td>326022</td>\n      <td>6.2</td>\n    </tr>\n    <tr>\n      <th>626</th>\n      <td>2010</td>\n      <td>US</td>\n      <td>814346</td>\n      <td>7712412</td>\n      <td>239</td>\n      <td>10.56</td>\n      <td>368918140</td>\n      <td>3754841368</td>\n      <td>144140259</td>\n      <td>9.83</td>\n    </tr>\n  </tbody>\n</table>\n<p>627 rows × 10 columns</p>\n</div>"
     },
     "execution_count": 149,
     "metadata": {},
     "output_type": "execute_result"
    }
   ],
   "source": [
    "df"
   ],
   "metadata": {
    "collapsed": false,
    "pycharm": {
     "name": "#%%\n"
    }
   }
  },
  {
   "cell_type": "code",
   "execution_count": 150,
   "outputs": [],
   "source": [
    "df_transportation = df.iloc[3:,0:6]"
   ],
   "metadata": {
    "collapsed": false,
    "pycharm": {
     "name": "#%%\n"
    }
   }
  },
  {
   "cell_type": "code",
   "execution_count": 151,
   "outputs": [
    {
     "data": {
      "text/plain": "       0   1       14       15   16     17\n3    2021  AK       0        0    0      0\n4    2021  AL       0        0    0      0\n5    2021  AR      28      205    2  13.56\n6    2021  AZ     981    10515    2   9.33\n7    2021  CA   73215   620799   12  11.79\n..    ...  ..     ...      ...  ...    ...\n622  2010  WA     516     6949    6   7.42\n623  2010  WI       0        0    0      0\n624  2010  WV     365     4380    1   8.33\n625  2010  WY       0        0    0      0\n626  2010  US  814346  7712412  239  10.56\n\n[624 rows x 6 columns]",
      "text/html": "<div>\n<style scoped>\n    .dataframe tbody tr th:only-of-type {\n        vertical-align: middle;\n    }\n\n    .dataframe tbody tr th {\n        vertical-align: top;\n    }\n\n    .dataframe thead th {\n        text-align: right;\n    }\n</style>\n<table border=\"1\" class=\"dataframe\">\n  <thead>\n    <tr style=\"text-align: right;\">\n      <th></th>\n      <th>0</th>\n      <th>1</th>\n      <th>14</th>\n      <th>15</th>\n      <th>16</th>\n      <th>17</th>\n    </tr>\n  </thead>\n  <tbody>\n    <tr>\n      <th>3</th>\n      <td>2021</td>\n      <td>AK</td>\n      <td>0</td>\n      <td>0</td>\n      <td>0</td>\n      <td>0</td>\n    </tr>\n    <tr>\n      <th>4</th>\n      <td>2021</td>\n      <td>AL</td>\n      <td>0</td>\n      <td>0</td>\n      <td>0</td>\n      <td>0</td>\n    </tr>\n    <tr>\n      <th>5</th>\n      <td>2021</td>\n      <td>AR</td>\n      <td>28</td>\n      <td>205</td>\n      <td>2</td>\n      <td>13.56</td>\n    </tr>\n    <tr>\n      <th>6</th>\n      <td>2021</td>\n      <td>AZ</td>\n      <td>981</td>\n      <td>10515</td>\n      <td>2</td>\n      <td>9.33</td>\n    </tr>\n    <tr>\n      <th>7</th>\n      <td>2021</td>\n      <td>CA</td>\n      <td>73215</td>\n      <td>620799</td>\n      <td>12</td>\n      <td>11.79</td>\n    </tr>\n    <tr>\n      <th>...</th>\n      <td>...</td>\n      <td>...</td>\n      <td>...</td>\n      <td>...</td>\n      <td>...</td>\n      <td>...</td>\n    </tr>\n    <tr>\n      <th>622</th>\n      <td>2010</td>\n      <td>WA</td>\n      <td>516</td>\n      <td>6949</td>\n      <td>6</td>\n      <td>7.42</td>\n    </tr>\n    <tr>\n      <th>623</th>\n      <td>2010</td>\n      <td>WI</td>\n      <td>0</td>\n      <td>0</td>\n      <td>0</td>\n      <td>0</td>\n    </tr>\n    <tr>\n      <th>624</th>\n      <td>2010</td>\n      <td>WV</td>\n      <td>365</td>\n      <td>4380</td>\n      <td>1</td>\n      <td>8.33</td>\n    </tr>\n    <tr>\n      <th>625</th>\n      <td>2010</td>\n      <td>WY</td>\n      <td>0</td>\n      <td>0</td>\n      <td>0</td>\n      <td>0</td>\n    </tr>\n    <tr>\n      <th>626</th>\n      <td>2010</td>\n      <td>US</td>\n      <td>814346</td>\n      <td>7712412</td>\n      <td>239</td>\n      <td>10.56</td>\n    </tr>\n  </tbody>\n</table>\n<p>624 rows × 6 columns</p>\n</div>"
     },
     "execution_count": 151,
     "metadata": {},
     "output_type": "execute_result"
    }
   ],
   "source": [
    "df_transportation"
   ],
   "metadata": {
    "collapsed": false,
    "pycharm": {
     "name": "#%%\n"
    }
   }
  },
  {
   "cell_type": "code",
   "execution_count": 152,
   "outputs": [
    {
     "data": {
      "text/plain": "     Year State Revenue    Sales Number of Customers  Price          Sector\n3    2021    AK       0        0                   0      0  Transportation\n4    2021    AL       0        0                   0      0  Transportation\n5    2021    AR      28      205                   2  13.56  Transportation\n6    2021    AZ     981    10515                   2   9.33  Transportation\n7    2021    CA   73215   620799                  12  11.79  Transportation\n..    ...   ...     ...      ...                 ...    ...             ...\n622  2010    WA     516     6949                   6   7.42  Transportation\n623  2010    WI       0        0                   0      0  Transportation\n624  2010    WV     365     4380                   1   8.33  Transportation\n625  2010    WY       0        0                   0      0  Transportation\n626  2010    US  814346  7712412                 239  10.56  Transportation\n\n[624 rows x 7 columns]",
      "text/html": "<div>\n<style scoped>\n    .dataframe tbody tr th:only-of-type {\n        vertical-align: middle;\n    }\n\n    .dataframe tbody tr th {\n        vertical-align: top;\n    }\n\n    .dataframe thead th {\n        text-align: right;\n    }\n</style>\n<table border=\"1\" class=\"dataframe\">\n  <thead>\n    <tr style=\"text-align: right;\">\n      <th></th>\n      <th>Year</th>\n      <th>State</th>\n      <th>Revenue</th>\n      <th>Sales</th>\n      <th>Number of Customers</th>\n      <th>Price</th>\n      <th>Sector</th>\n    </tr>\n  </thead>\n  <tbody>\n    <tr>\n      <th>3</th>\n      <td>2021</td>\n      <td>AK</td>\n      <td>0</td>\n      <td>0</td>\n      <td>0</td>\n      <td>0</td>\n      <td>Transportation</td>\n    </tr>\n    <tr>\n      <th>4</th>\n      <td>2021</td>\n      <td>AL</td>\n      <td>0</td>\n      <td>0</td>\n      <td>0</td>\n      <td>0</td>\n      <td>Transportation</td>\n    </tr>\n    <tr>\n      <th>5</th>\n      <td>2021</td>\n      <td>AR</td>\n      <td>28</td>\n      <td>205</td>\n      <td>2</td>\n      <td>13.56</td>\n      <td>Transportation</td>\n    </tr>\n    <tr>\n      <th>6</th>\n      <td>2021</td>\n      <td>AZ</td>\n      <td>981</td>\n      <td>10515</td>\n      <td>2</td>\n      <td>9.33</td>\n      <td>Transportation</td>\n    </tr>\n    <tr>\n      <th>7</th>\n      <td>2021</td>\n      <td>CA</td>\n      <td>73215</td>\n      <td>620799</td>\n      <td>12</td>\n      <td>11.79</td>\n      <td>Transportation</td>\n    </tr>\n    <tr>\n      <th>...</th>\n      <td>...</td>\n      <td>...</td>\n      <td>...</td>\n      <td>...</td>\n      <td>...</td>\n      <td>...</td>\n      <td>...</td>\n    </tr>\n    <tr>\n      <th>622</th>\n      <td>2010</td>\n      <td>WA</td>\n      <td>516</td>\n      <td>6949</td>\n      <td>6</td>\n      <td>7.42</td>\n      <td>Transportation</td>\n    </tr>\n    <tr>\n      <th>623</th>\n      <td>2010</td>\n      <td>WI</td>\n      <td>0</td>\n      <td>0</td>\n      <td>0</td>\n      <td>0</td>\n      <td>Transportation</td>\n    </tr>\n    <tr>\n      <th>624</th>\n      <td>2010</td>\n      <td>WV</td>\n      <td>365</td>\n      <td>4380</td>\n      <td>1</td>\n      <td>8.33</td>\n      <td>Transportation</td>\n    </tr>\n    <tr>\n      <th>625</th>\n      <td>2010</td>\n      <td>WY</td>\n      <td>0</td>\n      <td>0</td>\n      <td>0</td>\n      <td>0</td>\n      <td>Transportation</td>\n    </tr>\n    <tr>\n      <th>626</th>\n      <td>2010</td>\n      <td>US</td>\n      <td>814346</td>\n      <td>7712412</td>\n      <td>239</td>\n      <td>10.56</td>\n      <td>Transportation</td>\n    </tr>\n  </tbody>\n</table>\n<p>624 rows × 7 columns</p>\n</div>"
     },
     "execution_count": 152,
     "metadata": {},
     "output_type": "execute_result"
    }
   ],
   "source": [
    "df_transportation.columns = columns\n",
    "df_transportation['Sector'] = 'Transportation'\n",
    "df_transportation"
   ],
   "metadata": {
    "collapsed": false,
    "pycharm": {
     "name": "#%%\n"
    }
   }
  },
  {
   "cell_type": "code",
   "execution_count": 153,
   "outputs": [],
   "source": [
    "df_energy = pd.concat([df_residential,df_commercial,df_industrial,df_transportation], ignore_index=True)"
   ],
   "metadata": {
    "collapsed": false,
    "pycharm": {
     "name": "#%%\n"
    }
   }
  },
  {
   "cell_type": "code",
   "execution_count": 154,
   "outputs": [],
   "source": [
    "df_energy.to_csv('mo_final_project', encoding='utf-8',index=False)"
   ],
   "metadata": {
    "collapsed": false,
    "pycharm": {
     "name": "#%%\n"
    }
   }
  },
  {
   "cell_type": "code",
   "execution_count": 155,
   "outputs": [],
   "source": [
    "dk = pd.read_csv('mo_final_project')"
   ],
   "metadata": {
    "collapsed": false,
    "pycharm": {
     "name": "#%%\n"
    }
   }
  },
  {
   "cell_type": "code",
   "execution_count": 156,
   "outputs": [
    {
     "data": {
      "text/plain": "      Year State   Revenue     Sales  Number of Customers  Price  \\\n0     2021    AK    469886   2083911               292451  22.55   \n1     2021    AL   4092368  31585153              2308226  12.96   \n2     2021    AR   2131723  18918015              1436246  11.27   \n3     2021    AZ   4655903  37130339              2953823  12.54   \n4     2021    CA  20604392  90284143             13883994  22.82   \n...    ...   ...       ...       ...                  ...    ...   \n2491  2010    WA       516      6949                    6   7.42   \n2492  2010    WI         0         0                    0   0.00   \n2493  2010    WV       365      4380                    1   8.33   \n2494  2010    WY         0         0                    0   0.00   \n2495  2010    US    814346   7712412                  239  10.56   \n\n              Sector  \n0        Residential  \n1        Residential  \n2        Residential  \n3        Residential  \n4        Residential  \n...              ...  \n2491  Transportation  \n2492  Transportation  \n2493  Transportation  \n2494  Transportation  \n2495  Transportation  \n\n[2496 rows x 7 columns]",
      "text/html": "<div>\n<style scoped>\n    .dataframe tbody tr th:only-of-type {\n        vertical-align: middle;\n    }\n\n    .dataframe tbody tr th {\n        vertical-align: top;\n    }\n\n    .dataframe thead th {\n        text-align: right;\n    }\n</style>\n<table border=\"1\" class=\"dataframe\">\n  <thead>\n    <tr style=\"text-align: right;\">\n      <th></th>\n      <th>Year</th>\n      <th>State</th>\n      <th>Revenue</th>\n      <th>Sales</th>\n      <th>Number of Customers</th>\n      <th>Price</th>\n      <th>Sector</th>\n    </tr>\n  </thead>\n  <tbody>\n    <tr>\n      <th>0</th>\n      <td>2021</td>\n      <td>AK</td>\n      <td>469886</td>\n      <td>2083911</td>\n      <td>292451</td>\n      <td>22.55</td>\n      <td>Residential</td>\n    </tr>\n    <tr>\n      <th>1</th>\n      <td>2021</td>\n      <td>AL</td>\n      <td>4092368</td>\n      <td>31585153</td>\n      <td>2308226</td>\n      <td>12.96</td>\n      <td>Residential</td>\n    </tr>\n    <tr>\n      <th>2</th>\n      <td>2021</td>\n      <td>AR</td>\n      <td>2131723</td>\n      <td>18918015</td>\n      <td>1436246</td>\n      <td>11.27</td>\n      <td>Residential</td>\n    </tr>\n    <tr>\n      <th>3</th>\n      <td>2021</td>\n      <td>AZ</td>\n      <td>4655903</td>\n      <td>37130339</td>\n      <td>2953823</td>\n      <td>12.54</td>\n      <td>Residential</td>\n    </tr>\n    <tr>\n      <th>4</th>\n      <td>2021</td>\n      <td>CA</td>\n      <td>20604392</td>\n      <td>90284143</td>\n      <td>13883994</td>\n      <td>22.82</td>\n      <td>Residential</td>\n    </tr>\n    <tr>\n      <th>...</th>\n      <td>...</td>\n      <td>...</td>\n      <td>...</td>\n      <td>...</td>\n      <td>...</td>\n      <td>...</td>\n      <td>...</td>\n    </tr>\n    <tr>\n      <th>2491</th>\n      <td>2010</td>\n      <td>WA</td>\n      <td>516</td>\n      <td>6949</td>\n      <td>6</td>\n      <td>7.42</td>\n      <td>Transportation</td>\n    </tr>\n    <tr>\n      <th>2492</th>\n      <td>2010</td>\n      <td>WI</td>\n      <td>0</td>\n      <td>0</td>\n      <td>0</td>\n      <td>0.00</td>\n      <td>Transportation</td>\n    </tr>\n    <tr>\n      <th>2493</th>\n      <td>2010</td>\n      <td>WV</td>\n      <td>365</td>\n      <td>4380</td>\n      <td>1</td>\n      <td>8.33</td>\n      <td>Transportation</td>\n    </tr>\n    <tr>\n      <th>2494</th>\n      <td>2010</td>\n      <td>WY</td>\n      <td>0</td>\n      <td>0</td>\n      <td>0</td>\n      <td>0.00</td>\n      <td>Transportation</td>\n    </tr>\n    <tr>\n      <th>2495</th>\n      <td>2010</td>\n      <td>US</td>\n      <td>814346</td>\n      <td>7712412</td>\n      <td>239</td>\n      <td>10.56</td>\n      <td>Transportation</td>\n    </tr>\n  </tbody>\n</table>\n<p>2496 rows × 7 columns</p>\n</div>"
     },
     "execution_count": 156,
     "metadata": {},
     "output_type": "execute_result"
    }
   ],
   "source": [
    "dk"
   ],
   "metadata": {
    "collapsed": false,
    "pycharm": {
     "name": "#%%\n"
    }
   }
  },
  {
   "cell_type": "code",
   "execution_count": 157,
   "outputs": [
    {
     "name": "stdout",
     "output_type": "stream",
     "text": [
      "<class 'pandas.core.frame.DataFrame'>\n",
      "RangeIndex: 2496 entries, 0 to 2495\n",
      "Data columns (total 7 columns):\n",
      " #   Column               Non-Null Count  Dtype  \n",
      "---  ------               --------------  -----  \n",
      " 0   Year                 2496 non-null   int64  \n",
      " 1   State                2496 non-null   object \n",
      " 2   Revenue              2496 non-null   int64  \n",
      " 3   Sales                2496 non-null   int64  \n",
      " 4   Number of Customers  2496 non-null   int64  \n",
      " 5   Price                2496 non-null   float64\n",
      " 6   Sector               2496 non-null   object \n",
      "dtypes: float64(1), int64(4), object(2)\n",
      "memory usage: 136.6+ KB\n"
     ]
    }
   ],
   "source": [
    "dk.info()"
   ],
   "metadata": {
    "collapsed": false,
    "pycharm": {
     "name": "#%%\n"
    }
   }
  },
  {
   "cell_type": "code",
   "execution_count": 157,
   "outputs": [],
   "source": [],
   "metadata": {
    "collapsed": false,
    "pycharm": {
     "name": "#%%\n"
    }
   }
  },
  {
   "cell_type": "code",
   "execution_count": null,
   "outputs": [],
   "source": [],
   "metadata": {
    "collapsed": false,
    "pycharm": {
     "name": "#%%\n",
     "is_executing": true
    }
   }
  },
  {
   "cell_type": "code",
   "execution_count": 157,
   "outputs": [],
   "source": [],
   "metadata": {
    "collapsed": false,
    "pycharm": {
     "name": "#%%\n"
    }
   }
  }
 ],
 "metadata": {
  "kernelspec": {
   "display_name": "Python 3",
   "language": "python",
   "name": "python3"
  },
  "language_info": {
   "codemirror_mode": {
    "name": "ipython",
    "version": 2
   },
   "file_extension": ".py",
   "mimetype": "text/x-python",
   "name": "python",
   "nbconvert_exporter": "python",
   "pygments_lexer": "ipython2",
   "version": "2.7.6"
  }
 },
 "nbformat": 4,
 "nbformat_minor": 0
}